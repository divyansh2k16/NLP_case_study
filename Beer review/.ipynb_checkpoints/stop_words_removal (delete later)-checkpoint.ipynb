{
 "cells": [
  {
   "cell_type": "markdown",
   "metadata": {
    "toc": true
   },
   "source": [
    "<h1>Table of Contents<span class=\"tocSkip\"></span></h1>\n",
    "<div class=\"toc\"><ul class=\"toc-item\"></ul></div>"
   ]
  },
  {
   "cell_type": "code",
   "execution_count": 2,
   "metadata": {},
   "outputs": [],
   "source": [
    "import pandas as pd\n",
    "from nltk.corpus import stopwords\n",
    "from nltk.tokenize import word_tokenize"
   ]
  },
  {
   "cell_type": "code",
   "execution_count": 11,
   "metadata": {},
   "outputs": [],
   "source": [
    "stop_words = list(set(stopwords.words(\"english\")))"
   ]
  },
  {
   "cell_type": "code",
   "execution_count": 13,
   "metadata": {},
   "outputs": [],
   "source": [
    "df_raw = pd.read_csv(\"input/raw_data.csv\")"
   ]
  },
  {
   "cell_type": "code",
   "execution_count": 14,
   "metadata": {},
   "outputs": [
    {
     "data": {
      "text/html": [
       "<div>\n",
       "<style scoped>\n",
       "    .dataframe tbody tr th:only-of-type {\n",
       "        vertical-align: middle;\n",
       "    }\n",
       "\n",
       "    .dataframe tbody tr th {\n",
       "        vertical-align: top;\n",
       "    }\n",
       "\n",
       "    .dataframe thead th {\n",
       "        text-align: right;\n",
       "    }\n",
       "</style>\n",
       "<table border=\"1\" class=\"dataframe\">\n",
       "  <thead>\n",
       "    <tr style=\"text-align: right;\">\n",
       "      <th></th>\n",
       "      <th>id</th>\n",
       "      <th>content</th>\n",
       "      <th>date</th>\n",
       "      <th>product</th>\n",
       "      <th>brand</th>\n",
       "      <th>rating</th>\n",
       "    </tr>\n",
       "  </thead>\n",
       "  <tbody>\n",
       "    <tr>\n",
       "      <th>0</th>\n",
       "      <td>6254</td>\n",
       "      <td>12 Nov 2021 Sweet , dark roast malts , sweet o...</td>\n",
       "      <td>2022-01-15</td>\n",
       "      <td>anchorage-gutted</td>\n",
       "      <td>Anchorage</td>\n",
       "      <td>4.0</td>\n",
       "    </tr>\n",
       "    <tr>\n",
       "      <th>1</th>\n",
       "      <td>6347</td>\n",
       "      <td>Bottle . Hazy golden body with a large , froth...</td>\n",
       "      <td>2022-01-09 00:00:00</td>\n",
       "      <td>samuel-adams-cold-snap-2020-spring</td>\n",
       "      <td>Samuel Adams</td>\n",
       "      <td>3.0</td>\n",
       "    </tr>\n",
       "    <tr>\n",
       "      <th>2</th>\n",
       "      <td>8149</td>\n",
       "      <td>Pours an opaque deep dark brown with a decent ...</td>\n",
       "      <td>2022-01-03</td>\n",
       "      <td>sweetwater-festive-ale</td>\n",
       "      <td>Sweetwater</td>\n",
       "      <td>3.6</td>\n",
       "    </tr>\n",
       "    <tr>\n",
       "      <th>3</th>\n",
       "      <td>5240</td>\n",
       "      <td>Canned . Dark black with undetermined clarity ...</td>\n",
       "      <td>2021-12-27</td>\n",
       "      <td>athletic-all-out</td>\n",
       "      <td>Athletic</td>\n",
       "      <td>4.0</td>\n",
       "    </tr>\n",
       "    <tr>\n",
       "      <th>4</th>\n",
       "      <td>8500</td>\n",
       "      <td>Light gold , finger of white froth atop . Nose...</td>\n",
       "      <td>2021-12-22</td>\n",
       "      <td>bell-s-rind-over-matter</td>\n",
       "      <td>Bell's</td>\n",
       "      <td>3.4</td>\n",
       "    </tr>\n",
       "  </tbody>\n",
       "</table>\n",
       "</div>"
      ],
      "text/plain": [
       "     id                                            content  \\\n",
       "0  6254  12 Nov 2021 Sweet , dark roast malts , sweet o...   \n",
       "1  6347  Bottle . Hazy golden body with a large , froth...   \n",
       "2  8149  Pours an opaque deep dark brown with a decent ...   \n",
       "3  5240  Canned . Dark black with undetermined clarity ...   \n",
       "4  8500  Light gold , finger of white froth atop . Nose...   \n",
       "\n",
       "                  date                             product         brand  \\\n",
       "0           2022-01-15                    anchorage-gutted     Anchorage   \n",
       "1  2022-01-09 00:00:00  samuel-adams-cold-snap-2020-spring  Samuel Adams   \n",
       "2           2022-01-03              sweetwater-festive-ale    Sweetwater   \n",
       "3           2021-12-27                    athletic-all-out      Athletic   \n",
       "4           2021-12-22             bell-s-rind-over-matter        Bell's   \n",
       "\n",
       "   rating  \n",
       "0     4.0  \n",
       "1     3.0  \n",
       "2     3.6  \n",
       "3     4.0  \n",
       "4     3.4  "
      ]
     },
     "execution_count": 14,
     "metadata": {},
     "output_type": "execute_result"
    }
   ],
   "source": [
    "df_raw.head()"
   ]
  },
  {
   "cell_type": "code",
   "execution_count": 19,
   "metadata": {},
   "outputs": [],
   "source": [
    "df = df_raw.copy(deep=True)"
   ]
  },
  {
   "cell_type": "code",
   "execution_count": 42,
   "metadata": {},
   "outputs": [],
   "source": [
    "def remove_stop_words(text):\n",
    "    tokenized_text = word_tokenize(text)\n",
    "    final_text_ls = []\n",
    "    for i in tokenized_text:\n",
    "        if i not in stop_words:\n",
    "            final_text_ls.append(i)\n",
    "    return \" \".join([str(i) for i in final_text_ls])"
   ]
  },
  {
   "cell_type": "code",
   "execution_count": 43,
   "metadata": {},
   "outputs": [],
   "source": [
    "text = \"I love to look at cars by myself\""
   ]
  },
  {
   "cell_type": "code",
   "execution_count": 45,
   "metadata": {},
   "outputs": [
    {
     "data": {
      "text/plain": [
       "'I love look cars'"
      ]
     },
     "execution_count": 45,
     "metadata": {},
     "output_type": "execute_result"
    }
   ],
   "source": [
    "text2 = remove_stop_words(text)\n",
    "text2"
   ]
  },
  {
   "cell_type": "code",
   "execution_count": 46,
   "metadata": {},
   "outputs": [],
   "source": [
    "df['content_preprocessed'] = df['content'].apply(lambda x: remove_stop_words(x))"
   ]
  },
  {
   "cell_type": "code",
   "execution_count": 47,
   "metadata": {},
   "outputs": [
    {
     "data": {
      "text/html": [
       "<div>\n",
       "<style scoped>\n",
       "    .dataframe tbody tr th:only-of-type {\n",
       "        vertical-align: middle;\n",
       "    }\n",
       "\n",
       "    .dataframe tbody tr th {\n",
       "        vertical-align: top;\n",
       "    }\n",
       "\n",
       "    .dataframe thead th {\n",
       "        text-align: right;\n",
       "    }\n",
       "</style>\n",
       "<table border=\"1\" class=\"dataframe\">\n",
       "  <thead>\n",
       "    <tr style=\"text-align: right;\">\n",
       "      <th></th>\n",
       "      <th>id</th>\n",
       "      <th>content</th>\n",
       "      <th>date</th>\n",
       "      <th>product</th>\n",
       "      <th>brand</th>\n",
       "      <th>rating</th>\n",
       "      <th>content_preprocessed</th>\n",
       "    </tr>\n",
       "  </thead>\n",
       "  <tbody>\n",
       "    <tr>\n",
       "      <th>0</th>\n",
       "      <td>6254</td>\n",
       "      <td>12 Nov 2021 Sweet , dark roast malts , sweet o...</td>\n",
       "      <td>2022-01-15</td>\n",
       "      <td>anchorage-gutted</td>\n",
       "      <td>Anchorage</td>\n",
       "      <td>4.0</td>\n",
       "      <td>12 Nov 2021 Sweet , dark roast malts , sweet o...</td>\n",
       "    </tr>\n",
       "    <tr>\n",
       "      <th>1</th>\n",
       "      <td>6347</td>\n",
       "      <td>Bottle . Hazy golden body with a large , froth...</td>\n",
       "      <td>2022-01-09 00:00:00</td>\n",
       "      <td>samuel-adams-cold-snap-2020-spring</td>\n",
       "      <td>Samuel Adams</td>\n",
       "      <td>3.0</td>\n",
       "      <td>Bottle . Hazy golden body large , frothy white...</td>\n",
       "    </tr>\n",
       "    <tr>\n",
       "      <th>2</th>\n",
       "      <td>8149</td>\n",
       "      <td>Pours an opaque deep dark brown with a decent ...</td>\n",
       "      <td>2022-01-03</td>\n",
       "      <td>sweetwater-festive-ale</td>\n",
       "      <td>Sweetwater</td>\n",
       "      <td>3.6</td>\n",
       "      <td>Pours opaque deep dark brown decent small bead...</td>\n",
       "    </tr>\n",
       "    <tr>\n",
       "      <th>3</th>\n",
       "      <td>5240</td>\n",
       "      <td>Canned . Dark black with undetermined clarity ...</td>\n",
       "      <td>2021-12-27</td>\n",
       "      <td>athletic-all-out</td>\n",
       "      <td>Athletic</td>\n",
       "      <td>4.0</td>\n",
       "      <td>Canned . Dark black undetermined clarity , ass...</td>\n",
       "    </tr>\n",
       "    <tr>\n",
       "      <th>4</th>\n",
       "      <td>8500</td>\n",
       "      <td>Light gold , finger of white froth atop . Nose...</td>\n",
       "      <td>2021-12-22</td>\n",
       "      <td>bell-s-rind-over-matter</td>\n",
       "      <td>Bell's</td>\n",
       "      <td>3.4</td>\n",
       "      <td>Light gold , finger white froth atop . Nose wh...</td>\n",
       "    </tr>\n",
       "  </tbody>\n",
       "</table>\n",
       "</div>"
      ],
      "text/plain": [
       "     id                                            content  \\\n",
       "0  6254  12 Nov 2021 Sweet , dark roast malts , sweet o...   \n",
       "1  6347  Bottle . Hazy golden body with a large , froth...   \n",
       "2  8149  Pours an opaque deep dark brown with a decent ...   \n",
       "3  5240  Canned . Dark black with undetermined clarity ...   \n",
       "4  8500  Light gold , finger of white froth atop . Nose...   \n",
       "\n",
       "                  date                             product         brand  \\\n",
       "0           2022-01-15                    anchorage-gutted     Anchorage   \n",
       "1  2022-01-09 00:00:00  samuel-adams-cold-snap-2020-spring  Samuel Adams   \n",
       "2           2022-01-03              sweetwater-festive-ale    Sweetwater   \n",
       "3           2021-12-27                    athletic-all-out      Athletic   \n",
       "4           2021-12-22             bell-s-rind-over-matter        Bell's   \n",
       "\n",
       "   rating                               content_preprocessed  \n",
       "0     4.0  12 Nov 2021 Sweet , dark roast malts , sweet o...  \n",
       "1     3.0  Bottle . Hazy golden body large , frothy white...  \n",
       "2     3.6  Pours opaque deep dark brown decent small bead...  \n",
       "3     4.0  Canned . Dark black undetermined clarity , ass...  \n",
       "4     3.4  Light gold , finger white froth atop . Nose wh...  "
      ]
     },
     "execution_count": 47,
     "metadata": {},
     "output_type": "execute_result"
    }
   ],
   "source": [
    "df.head()"
   ]
  },
  {
   "cell_type": "code",
   "execution_count": null,
   "metadata": {},
   "outputs": [],
   "source": []
  }
 ],
 "metadata": {
  "kernelspec": {
   "display_name": "Python 3 (ipykernel)",
   "language": "python",
   "name": "python3"
  },
  "language_info": {
   "codemirror_mode": {
    "name": "ipython",
    "version": 3
   },
   "file_extension": ".py",
   "mimetype": "text/x-python",
   "name": "python",
   "nbconvert_exporter": "python",
   "pygments_lexer": "ipython3",
   "version": "3.8.5"
  },
  "toc": {
   "base_numbering": 1,
   "nav_menu": {},
   "number_sections": true,
   "sideBar": true,
   "skip_h1_title": false,
   "title_cell": "Table of Contents",
   "title_sidebar": "Contents",
   "toc_cell": true,
   "toc_position": {},
   "toc_section_display": true,
   "toc_window_display": true
  }
 },
 "nbformat": 4,
 "nbformat_minor": 4
}
