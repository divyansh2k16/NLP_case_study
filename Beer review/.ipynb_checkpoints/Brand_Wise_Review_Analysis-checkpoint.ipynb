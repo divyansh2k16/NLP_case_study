{
 "cells": [
  {
   "cell_type": "markdown",
   "metadata": {
    "toc": true
   },
   "source": [
    "<h1>Table of Contents<span class=\"tocSkip\"></span></h1>\n",
    "<div class=\"toc\"><ul class=\"toc-item\"><li><span><a href=\"#Import-necessary-modules\" data-toc-modified-id=\"Import-necessary-modules-1\"><span class=\"toc-item-num\">1&nbsp;&nbsp;</span>Import necessary modules</a></span></li><li><span><a href=\"#Import-the-dataset\" data-toc-modified-id=\"Import-the-dataset-2\"><span class=\"toc-item-num\">2&nbsp;&nbsp;</span>Import the dataset</a></span><ul class=\"toc-item\"><li><span><a href=\"#Creating-a-copy-of-the-original-dataframe-(in-case-things-need-to-restarts!)\" data-toc-modified-id=\"Creating-a-copy-of-the-original-dataframe-(in-case-things-need-to-restarts!)-2.1\"><span class=\"toc-item-num\">2.1&nbsp;&nbsp;</span>Creating a copy of the original dataframe (in case things need to restarts!)</a></span></li></ul></li><li><span><a href=\"#Grouping-all-the-reviews-of-a-particular-product-together\" data-toc-modified-id=\"Grouping-all-the-reviews-of-a-particular-product-together-3\"><span class=\"toc-item-num\">3&nbsp;&nbsp;</span>Grouping all the reviews of a particular product together</a></span><ul class=\"toc-item\"><li><span><a href=\"#Before-grouping-dropping-all-the-brands-that-have-less-than-4-reviews-(because-1-or-2-reviews-for-a-brand-is-not-sufficient-to-determine-something-about-it)\" data-toc-modified-id=\"Before-grouping-dropping-all-the-brands-that-have-less-than-4-reviews-(because-1-or-2-reviews-for-a-brand-is-not-sufficient-to-determine-something-about-it)-3.1\"><span class=\"toc-item-num\">3.1&nbsp;&nbsp;</span>Before grouping dropping all the brands that have less than 4 reviews (because 1 or 2 reviews for a brand is not sufficient to determine something about it)</a></span></li></ul></li><li><span><a href=\"#Remove-all-unnecessary-(stop-words)-from-all-the-combined-reviews\" data-toc-modified-id=\"Remove-all-unnecessary-(stop-words)-from-all-the-combined-reviews-4\"><span class=\"toc-item-num\">4&nbsp;&nbsp;</span>Remove all unnecessary (stop words) from all the combined reviews</a></span></li><li><span><a href=\"#Apply-Spacy-NER-tagging-to-get-the-nouns-and-the-adjectives-from-all-the-reviews\" data-toc-modified-id=\"Apply-Spacy-NER-tagging-to-get-the-nouns-and-the-adjectives-from-all-the-reviews-5\"><span class=\"toc-item-num\">5&nbsp;&nbsp;</span>Apply Spacy NER tagging to get the nouns and the adjectives from all the reviews</a></span></li></ul></div>"
   ]
  },
  {
   "cell_type": "markdown",
   "metadata": {},
   "source": [
    "### Import necessary modules"
   ]
  },
  {
   "cell_type": "code",
   "execution_count": 59,
   "metadata": {},
   "outputs": [],
   "source": [
    "import pandas as pd\n",
    "from nltk.corpus import stopwords\n",
    "from nltk.tokenize import word_tokenize\n",
    "\n",
    "import spacy\n",
    "from spacy import displacy\n",
    "from spacy.util import minibatch, compounding, decaying\n",
    "nlp=spacy.load(\"en_core_web_md\")\n",
    "\n",
    "from tqdm.notebook import tqdm\n",
    "# Initialize TQDM\n",
    "tqdm.pandas(desc=\"progress bar\")\n",
    "\n",
    "import warnings\n",
    "warnings.filterwarnings('ignore')"
   ]
  },
  {
   "cell_type": "markdown",
   "metadata": {},
   "source": [
    "### Import the dataset"
   ]
  },
  {
   "cell_type": "code",
   "execution_count": 2,
   "metadata": {},
   "outputs": [],
   "source": [
    "df_raw = pd.read_csv(\"input/raw_data.csv\")"
   ]
  },
  {
   "cell_type": "code",
   "execution_count": 3,
   "metadata": {},
   "outputs": [
    {
     "data": {
      "text/html": [
       "<div>\n",
       "<style scoped>\n",
       "    .dataframe tbody tr th:only-of-type {\n",
       "        vertical-align: middle;\n",
       "    }\n",
       "\n",
       "    .dataframe tbody tr th {\n",
       "        vertical-align: top;\n",
       "    }\n",
       "\n",
       "    .dataframe thead th {\n",
       "        text-align: right;\n",
       "    }\n",
       "</style>\n",
       "<table border=\"1\" class=\"dataframe\">\n",
       "  <thead>\n",
       "    <tr style=\"text-align: right;\">\n",
       "      <th></th>\n",
       "      <th>id</th>\n",
       "      <th>content</th>\n",
       "      <th>date</th>\n",
       "      <th>product</th>\n",
       "      <th>brand</th>\n",
       "      <th>rating</th>\n",
       "    </tr>\n",
       "  </thead>\n",
       "  <tbody>\n",
       "    <tr>\n",
       "      <th>0</th>\n",
       "      <td>6254</td>\n",
       "      <td>12 Nov 2021 Sweet , dark roast malts , sweet o...</td>\n",
       "      <td>2022-01-15</td>\n",
       "      <td>anchorage-gutted</td>\n",
       "      <td>Anchorage</td>\n",
       "      <td>4.0</td>\n",
       "    </tr>\n",
       "    <tr>\n",
       "      <th>1</th>\n",
       "      <td>6347</td>\n",
       "      <td>Bottle . Hazy golden body with a large , froth...</td>\n",
       "      <td>2022-01-09 00:00:00</td>\n",
       "      <td>samuel-adams-cold-snap-2020-spring</td>\n",
       "      <td>Samuel Adams</td>\n",
       "      <td>3.0</td>\n",
       "    </tr>\n",
       "    <tr>\n",
       "      <th>2</th>\n",
       "      <td>8149</td>\n",
       "      <td>Pours an opaque deep dark brown with a decent ...</td>\n",
       "      <td>2022-01-03</td>\n",
       "      <td>sweetwater-festive-ale</td>\n",
       "      <td>Sweetwater</td>\n",
       "      <td>3.6</td>\n",
       "    </tr>\n",
       "    <tr>\n",
       "      <th>3</th>\n",
       "      <td>5240</td>\n",
       "      <td>Canned . Dark black with undetermined clarity ...</td>\n",
       "      <td>2021-12-27</td>\n",
       "      <td>athletic-all-out</td>\n",
       "      <td>Athletic</td>\n",
       "      <td>4.0</td>\n",
       "    </tr>\n",
       "    <tr>\n",
       "      <th>4</th>\n",
       "      <td>8500</td>\n",
       "      <td>Light gold , finger of white froth atop . Nose...</td>\n",
       "      <td>2021-12-22</td>\n",
       "      <td>bell-s-rind-over-matter</td>\n",
       "      <td>Bell's</td>\n",
       "      <td>3.4</td>\n",
       "    </tr>\n",
       "  </tbody>\n",
       "</table>\n",
       "</div>"
      ],
      "text/plain": [
       "     id                                            content  \\\n",
       "0  6254  12 Nov 2021 Sweet , dark roast malts , sweet o...   \n",
       "1  6347  Bottle . Hazy golden body with a large , froth...   \n",
       "2  8149  Pours an opaque deep dark brown with a decent ...   \n",
       "3  5240  Canned . Dark black with undetermined clarity ...   \n",
       "4  8500  Light gold , finger of white froth atop . Nose...   \n",
       "\n",
       "                  date                             product         brand  \\\n",
       "0           2022-01-15                    anchorage-gutted     Anchorage   \n",
       "1  2022-01-09 00:00:00  samuel-adams-cold-snap-2020-spring  Samuel Adams   \n",
       "2           2022-01-03              sweetwater-festive-ale    Sweetwater   \n",
       "3           2021-12-27                    athletic-all-out      Athletic   \n",
       "4           2021-12-22             bell-s-rind-over-matter        Bell's   \n",
       "\n",
       "   rating  \n",
       "0     4.0  \n",
       "1     3.0  \n",
       "2     3.6  \n",
       "3     4.0  \n",
       "4     3.4  "
      ]
     },
     "execution_count": 3,
     "metadata": {},
     "output_type": "execute_result"
    }
   ],
   "source": [
    "df_raw.head()"
   ]
  },
  {
   "cell_type": "markdown",
   "metadata": {},
   "source": [
    "#### Creating a copy of the original dataframe (in case things need to restarts!)"
   ]
  },
  {
   "cell_type": "code",
   "execution_count": 4,
   "metadata": {},
   "outputs": [],
   "source": [
    "df = df_raw.copy(deep=True)"
   ]
  },
  {
   "cell_type": "markdown",
   "metadata": {},
   "source": [
    "> There are some 1:1 mappings, but there are also 1:many mappings between brand and unqiue products"
   ]
  },
  {
   "cell_type": "markdown",
   "metadata": {},
   "source": [
    "### Grouping all the reviews of a particular product together"
   ]
  },
  {
   "cell_type": "markdown",
   "metadata": {},
   "source": [
    "#### Before grouping dropping all the brands that have less than 4 reviews (because 1 or 2 reviews for a brand is not sufficient to determine something about it)"
   ]
  },
  {
   "cell_type": "code",
   "execution_count": 32,
   "metadata": {},
   "outputs": [
    {
     "data": {
      "text/plain": [
       "(614, 2)"
      ]
     },
     "execution_count": 32,
     "metadata": {},
     "output_type": "execute_result"
    }
   ],
   "source": [
    "df_low_review_count_df = df.groupby('brand')['content'].nunique().reset_index()\n",
    "df_low_review_count_df.columns = ['brand', 'unique_review_counts']\n",
    "df_low_review_count_df = df_low_review_count_df[df_low_review_count_df['unique_review_counts'] < 4]\n",
    "df_low_review_count_df.shape"
   ]
  },
  {
   "cell_type": "code",
   "execution_count": 35,
   "metadata": {},
   "outputs": [],
   "source": [
    "brands_to_remove = df_low_review_count_df.brand.unique().tolist()"
   ]
  },
  {
   "cell_type": "code",
   "execution_count": 38,
   "metadata": {},
   "outputs": [],
   "source": [
    "df = df[~df['brand'].isin(brands_to_remove)]"
   ]
  },
  {
   "cell_type": "code",
   "execution_count": 43,
   "metadata": {},
   "outputs": [],
   "source": [
    "df_brand_wise_grouped = df.groupby('brand')['content'].agg(' '.join).reset_index()"
   ]
  },
  {
   "cell_type": "code",
   "execution_count": 44,
   "metadata": {},
   "outputs": [],
   "source": [
    "df_brand_wise_grouped.to_csv(\"outputs/preprocessed/brand_wise_grouped_reviews.csv\", index=False)"
   ]
  },
  {
   "cell_type": "markdown",
   "metadata": {},
   "source": [
    "### Remove all unnecessary (stop words) from all the combined reviews"
   ]
  },
  {
   "cell_type": "code",
   "execution_count": 45,
   "metadata": {},
   "outputs": [],
   "source": [
    "stop_words = list(set(stopwords.words(\"english\")))"
   ]
  },
  {
   "cell_type": "code",
   "execution_count": 46,
   "metadata": {},
   "outputs": [],
   "source": [
    "def remove_stop_words(text):\n",
    "    tokenized_text = word_tokenize(text)\n",
    "    final_text_ls = []\n",
    "    for i in tokenized_text:\n",
    "        if i not in stop_words:\n",
    "            final_text_ls.append(i)\n",
    "    return \" \".join([str(i) for i in final_text_ls])"
   ]
  },
  {
   "cell_type": "code",
   "execution_count": 47,
   "metadata": {},
   "outputs": [
    {
     "data": {
      "application/vnd.jupyter.widget-view+json": {
       "model_id": "5dd4812746894c2d96ae883e6c216e71",
       "version_major": 2,
       "version_minor": 0
      },
      "text/plain": [
       "progress bar:   0%|          | 0/264 [00:00<?, ?it/s]"
      ]
     },
     "metadata": {},
     "output_type": "display_data"
    }
   ],
   "source": [
    "df_brand_wise_grouped['content_preprocessed'] = df_brand_wise_grouped['content'].progress_apply(lambda x: remove_stop_words(x))"
   ]
  },
  {
   "cell_type": "code",
   "execution_count": 48,
   "metadata": {},
   "outputs": [
    {
     "data": {
      "text/html": [
       "<div>\n",
       "<style scoped>\n",
       "    .dataframe tbody tr th:only-of-type {\n",
       "        vertical-align: middle;\n",
       "    }\n",
       "\n",
       "    .dataframe tbody tr th {\n",
       "        vertical-align: top;\n",
       "    }\n",
       "\n",
       "    .dataframe thead th {\n",
       "        text-align: right;\n",
       "    }\n",
       "</style>\n",
       "<table border=\"1\" class=\"dataframe\">\n",
       "  <thead>\n",
       "    <tr style=\"text-align: right;\">\n",
       "      <th></th>\n",
       "      <th>brand</th>\n",
       "      <th>content</th>\n",
       "      <th>content_preprocessed</th>\n",
       "    </tr>\n",
       "  </thead>\n",
       "  <tbody>\n",
       "    <tr>\n",
       "      <th>0</th>\n",
       "      <td>3 Fonteinen</td>\n",
       "      <td>16 / 17 bottle . Citrusy , tart , yoghurt like...</td>\n",
       "      <td>16 / 17 bottle . Citrusy , tart , yoghurt like...</td>\n",
       "    </tr>\n",
       "    <tr>\n",
       "      <th>1</th>\n",
       "      <td>AC Golden</td>\n",
       "      <td>Pours an effervescent amber with 2 + fingers o...</td>\n",
       "      <td>Pours effervescent amber 2 + fingers pearl col...</td>\n",
       "    </tr>\n",
       "    <tr>\n",
       "      <th>2</th>\n",
       "      <td>Against the Grain</td>\n",
       "      <td>Can: Poured a pitch - black color stout with a...</td>\n",
       "      <td>Can : Poured pitch - black color stout nice la...</td>\n",
       "    </tr>\n",
       "    <tr>\n",
       "      <th>3</th>\n",
       "      <td>Alaskan Brewing</td>\n",
       "      <td>Black and opaque color , has fine cream - colo...</td>\n",
       "      <td>Black opaque color , fine cream - colored foam...</td>\n",
       "    </tr>\n",
       "    <tr>\n",
       "      <th>4</th>\n",
       "      <td>Alesmith</td>\n",
       "      <td>Big sweet caramel flavours as this one hits th...</td>\n",
       "      <td>Big sweet caramel flavours one hits tongue . M...</td>\n",
       "    </tr>\n",
       "  </tbody>\n",
       "</table>\n",
       "</div>"
      ],
      "text/plain": [
       "               brand                                            content  \\\n",
       "0        3 Fonteinen  16 / 17 bottle . Citrusy , tart , yoghurt like...   \n",
       "1          AC Golden  Pours an effervescent amber with 2 + fingers o...   \n",
       "2  Against the Grain  Can: Poured a pitch - black color stout with a...   \n",
       "3    Alaskan Brewing  Black and opaque color , has fine cream - colo...   \n",
       "4           Alesmith  Big sweet caramel flavours as this one hits th...   \n",
       "\n",
       "                                content_preprocessed  \n",
       "0  16 / 17 bottle . Citrusy , tart , yoghurt like...  \n",
       "1  Pours effervescent amber 2 + fingers pearl col...  \n",
       "2  Can : Poured pitch - black color stout nice la...  \n",
       "3  Black opaque color , fine cream - colored foam...  \n",
       "4  Big sweet caramel flavours one hits tongue . M...  "
      ]
     },
     "execution_count": 48,
     "metadata": {},
     "output_type": "execute_result"
    }
   ],
   "source": [
    "df_brand_wise_grouped.head()"
   ]
  },
  {
   "cell_type": "code",
   "execution_count": 49,
   "metadata": {},
   "outputs": [],
   "source": [
    "# saving the processed dataframe\n",
    "df_brand_wise_grouped.to_csv(\"outputs/preprocessed/brand_wise_grouped_reviews_without_stop_words.csv\", index=False)"
   ]
  },
  {
   "cell_type": "markdown",
   "metadata": {},
   "source": [
    "### Apply Spacy NER tagging to get the nouns and the adjectives from all the reviews"
   ]
  },
  {
   "cell_type": "code",
   "execution_count": 50,
   "metadata": {},
   "outputs": [],
   "source": [
    "def get_aspects(x):\n",
    "    doc=nlp(x) ## Tokenize and extract grammatical components\n",
    "    doc=[i.text for i in doc if i.text not in stop_words and i.pos_==\"NOUN\"] ## Remove common words and retain only nouns\n",
    "    doc=list(map(lambda i: i.lower(),doc)) ## Normalize text to lower case\n",
    "    doc=pd.Series(doc)\n",
    "    doc=doc.value_counts().head().index.tolist() ## Get 5 most frequent nouns\n",
    "    return doc"
   ]
  },
  {
   "cell_type": "code",
   "execution_count": 51,
   "metadata": {},
   "outputs": [
    {
     "data": {
      "application/vnd.jupyter.widget-view+json": {
       "model_id": "3e1e37f017c24880bbfa54bb2e17d6f0",
       "version_major": 2,
       "version_minor": 0
      },
      "text/plain": [
       "progress bar:   0%|          | 0/264 [00:00<?, ?it/s]"
      ]
     },
     "metadata": {},
     "output_type": "display_data"
    }
   ],
   "source": [
    "df_brand_wise_grouped['top_nouns'] = df_brand_wise_grouped['content_preprocessed'].progress_apply(lambda x: get_aspects(x))"
   ]
  },
  {
   "cell_type": "code",
   "execution_count": 52,
   "metadata": {},
   "outputs": [
    {
     "data": {
      "text/html": [
       "<div>\n",
       "<style scoped>\n",
       "    .dataframe tbody tr th:only-of-type {\n",
       "        vertical-align: middle;\n",
       "    }\n",
       "\n",
       "    .dataframe tbody tr th {\n",
       "        vertical-align: top;\n",
       "    }\n",
       "\n",
       "    .dataframe thead th {\n",
       "        text-align: right;\n",
       "    }\n",
       "</style>\n",
       "<table border=\"1\" class=\"dataframe\">\n",
       "  <thead>\n",
       "    <tr style=\"text-align: right;\">\n",
       "      <th></th>\n",
       "      <th>brand</th>\n",
       "      <th>content</th>\n",
       "      <th>content_preprocessed</th>\n",
       "      <th>top_nouns</th>\n",
       "    </tr>\n",
       "  </thead>\n",
       "  <tbody>\n",
       "    <tr>\n",
       "      <th>0</th>\n",
       "      <td>3 Fonteinen</td>\n",
       "      <td>16 / 17 bottle . Citrusy , tart , yoghurt like...</td>\n",
       "      <td>16 / 17 bottle . Citrusy , tart , yoghurt like...</td>\n",
       "      <td>[bottle, head, beer, aroma, funk]</td>\n",
       "    </tr>\n",
       "    <tr>\n",
       "      <th>1</th>\n",
       "      <td>AC Golden</td>\n",
       "      <td>Pours an effervescent amber with 2 + fingers o...</td>\n",
       "      <td>Pours effervescent amber 2 + fingers pearl col...</td>\n",
       "      <td>[head, lemon, lacing, taste, aroma]</td>\n",
       "    </tr>\n",
       "    <tr>\n",
       "      <th>2</th>\n",
       "      <td>Against the Grain</td>\n",
       "      <td>Can: Poured a pitch - black color stout with a...</td>\n",
       "      <td>Can : Poured pitch - black color stout nice la...</td>\n",
       "      <td>[notes, chocolate, stout, head, malt]</td>\n",
       "    </tr>\n",
       "    <tr>\n",
       "      <th>3</th>\n",
       "      <td>Alaskan Brewing</td>\n",
       "      <td>Black and opaque color , has fine cream - colo...</td>\n",
       "      <td>Black opaque color , fine cream - colored foam...</td>\n",
       "      <td>[aroma, head, coffee, chocolate, smoke]</td>\n",
       "    </tr>\n",
       "    <tr>\n",
       "      <th>4</th>\n",
       "      <td>Alesmith</td>\n",
       "      <td>Big sweet caramel flavours as this one hits th...</td>\n",
       "      <td>Big sweet caramel flavours one hits tongue . M...</td>\n",
       "      <td>[malt, head, bottle, aroma, bit]</td>\n",
       "    </tr>\n",
       "  </tbody>\n",
       "</table>\n",
       "</div>"
      ],
      "text/plain": [
       "               brand                                            content  \\\n",
       "0        3 Fonteinen  16 / 17 bottle . Citrusy , tart , yoghurt like...   \n",
       "1          AC Golden  Pours an effervescent amber with 2 + fingers o...   \n",
       "2  Against the Grain  Can: Poured a pitch - black color stout with a...   \n",
       "3    Alaskan Brewing  Black and opaque color , has fine cream - colo...   \n",
       "4           Alesmith  Big sweet caramel flavours as this one hits th...   \n",
       "\n",
       "                                content_preprocessed  \\\n",
       "0  16 / 17 bottle . Citrusy , tart , yoghurt like...   \n",
       "1  Pours effervescent amber 2 + fingers pearl col...   \n",
       "2  Can : Poured pitch - black color stout nice la...   \n",
       "3  Black opaque color , fine cream - colored foam...   \n",
       "4  Big sweet caramel flavours one hits tongue . M...   \n",
       "\n",
       "                                 top_nouns  \n",
       "0        [bottle, head, beer, aroma, funk]  \n",
       "1      [head, lemon, lacing, taste, aroma]  \n",
       "2    [notes, chocolate, stout, head, malt]  \n",
       "3  [aroma, head, coffee, chocolate, smoke]  \n",
       "4         [malt, head, bottle, aroma, bit]  "
      ]
     },
     "execution_count": 52,
     "metadata": {},
     "output_type": "execute_result"
    }
   ],
   "source": [
    "df_brand_wise_grouped.head()"
   ]
  },
  {
   "cell_type": "code",
   "execution_count": 70,
   "metadata": {},
   "outputs": [
    {
     "data": {
      "text/html": [
       "<div>\n",
       "<style scoped>\n",
       "    .dataframe tbody tr th:only-of-type {\n",
       "        vertical-align: middle;\n",
       "    }\n",
       "\n",
       "    .dataframe tbody tr th {\n",
       "        vertical-align: top;\n",
       "    }\n",
       "\n",
       "    .dataframe thead th {\n",
       "        text-align: right;\n",
       "    }\n",
       "</style>\n",
       "<table border=\"1\" class=\"dataframe\">\n",
       "  <thead>\n",
       "    <tr style=\"text-align: right;\">\n",
       "      <th></th>\n",
       "      <th>brand</th>\n",
       "      <th>content</th>\n",
       "      <th>content_preprocessed</th>\n",
       "      <th>top_nouns</th>\n",
       "    </tr>\n",
       "  </thead>\n",
       "  <tbody>\n",
       "    <tr>\n",
       "      <th>200</th>\n",
       "      <td>Samuel Adams</td>\n",
       "      <td>Bottle . Hazy golden body with a large , froth...</td>\n",
       "      <td>Bottle . Hazy golden body large , frothy white...</td>\n",
       "      <td>[head, aroma, beer, bottle, flavor]</td>\n",
       "    </tr>\n",
       "  </tbody>\n",
       "</table>\n",
       "</div>"
      ],
      "text/plain": [
       "            brand                                            content  \\\n",
       "200  Samuel Adams  Bottle . Hazy golden body with a large , froth...   \n",
       "\n",
       "                                  content_preprocessed  \\\n",
       "200  Bottle . Hazy golden body large , frothy white...   \n",
       "\n",
       "                               top_nouns  \n",
       "200  [head, aroma, beer, bottle, flavor]  "
      ]
     },
     "execution_count": 70,
     "metadata": {},
     "output_type": "execute_result"
    }
   ],
   "source": [
    "df_brand_wise_grouped[df_brand_wise_grouped['brand'] == 'Samuel Adams']"
   ]
  },
  {
   "cell_type": "code",
   "execution_count": 71,
   "metadata": {},
   "outputs": [],
   "source": [
    "# saving the file with the top 5 nouns\n",
    "df_brand_wise_grouped.to_csv(\"outputs/preprocessed/brand_wise_grouped_reviews_with_top_5_nouns.csv\", index=False)"
   ]
  },
  {
   "cell_type": "code",
   "execution_count": null,
   "metadata": {},
   "outputs": [],
   "source": []
  }
 ],
 "metadata": {
  "kernelspec": {
   "display_name": "Python 3 (ipykernel)",
   "language": "python",
   "name": "python3"
  },
  "language_info": {
   "codemirror_mode": {
    "name": "ipython",
    "version": 3
   },
   "file_extension": ".py",
   "mimetype": "text/x-python",
   "name": "python",
   "nbconvert_exporter": "python",
   "pygments_lexer": "ipython3",
   "version": "3.8.5"
  },
  "toc": {
   "base_numbering": 1,
   "nav_menu": {},
   "number_sections": true,
   "sideBar": true,
   "skip_h1_title": false,
   "title_cell": "Table of Contents",
   "title_sidebar": "Contents",
   "toc_cell": true,
   "toc_position": {},
   "toc_section_display": true,
   "toc_window_display": true
  }
 },
 "nbformat": 4,
 "nbformat_minor": 4
}
