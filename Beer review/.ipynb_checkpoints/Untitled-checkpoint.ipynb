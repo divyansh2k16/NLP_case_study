{
 "cells": [
  {
   "cell_type": "markdown",
   "id": "b578820b",
   "metadata": {
    "toc": true
   },
   "source": [
    "<h1>Table of Contents<span class=\"tocSkip\"></span></h1>\n",
    "<div class=\"toc\"><ul class=\"toc-item\"><li><span><a href=\"#Reading-the-datasets\" data-toc-modified-id=\"Reading-the-datasets-1\"><span class=\"toc-item-num\">1&nbsp;&nbsp;</span>Reading the datasets</a></span></li><li><span><a href=\"#One-hot-encoding-the-different-attributes-as-a-separate-feature:\" data-toc-modified-id=\"One-hot-encoding-the-different-attributes-as-a-separate-feature:-2\"><span class=\"toc-item-num\">2&nbsp;&nbsp;</span>One-hot encoding the different attributes as a separate feature:</a></span></li><li><span><a href=\"#Defining-the-X-and-y-parameters-for-the-random-forest-classifier\" data-toc-modified-id=\"Defining-the-X-and-y-parameters-for-the-random-forest-classifier-3\"><span class=\"toc-item-num\">3&nbsp;&nbsp;</span>Defining the X and y parameters for the random forest classifier</a></span></li><li><span><a href=\"#Running-a-random-search-over-the-random-forest-classifier\" data-toc-modified-id=\"Running-a-random-search-over-the-random-forest-classifier-4\"><span class=\"toc-item-num\">4&nbsp;&nbsp;</span>Running a random search over the random forest classifier</a></span></li></ul></div>"
   ]
  },
  {
   "cell_type": "code",
   "execution_count": 29,
   "id": "a525b66e",
   "metadata": {},
   "outputs": [],
   "source": [
    "import pandas as pd\n",
    "import numpy as np\n",
    "from pprint import pprint\n",
    "from sklearn.ensemble import RandomForestClassifier\n",
    "from sklearn.model_selection import RandomizedSearchCV"
   ]
  },
  {
   "cell_type": "markdown",
   "id": "af2b9aba",
   "metadata": {},
   "source": [
    "### Reading the datasets "
   ]
  },
  {
   "cell_type": "code",
   "execution_count": 13,
   "id": "b3647abb",
   "metadata": {},
   "outputs": [],
   "source": [
    "df = pd.read_csv(\"input/raw_data.csv\", parse_dates=['date'])"
   ]
  },
  {
   "cell_type": "code",
   "execution_count": 2,
   "id": "f489b8be",
   "metadata": {},
   "outputs": [],
   "source": [
    "df_exploded = pd.read_csv(\"outputs/preprocessed/review_attribute_exploded_tagging.csv\")"
   ]
  },
  {
   "cell_type": "code",
   "execution_count": 3,
   "id": "c822b684",
   "metadata": {},
   "outputs": [
    {
     "data": {
      "text/html": [
       "<div>\n",
       "<style scoped>\n",
       "    .dataframe tbody tr th:only-of-type {\n",
       "        vertical-align: middle;\n",
       "    }\n",
       "\n",
       "    .dataframe tbody tr th {\n",
       "        vertical-align: top;\n",
       "    }\n",
       "\n",
       "    .dataframe thead th {\n",
       "        text-align: right;\n",
       "    }\n",
       "</style>\n",
       "<table border=\"1\" class=\"dataframe\">\n",
       "  <thead>\n",
       "    <tr style=\"text-align: right;\">\n",
       "      <th></th>\n",
       "      <th>modified_id</th>\n",
       "      <th>keyword</th>\n",
       "      <th>cluster</th>\n",
       "    </tr>\n",
       "  </thead>\n",
       "  <tbody>\n",
       "    <tr>\n",
       "      <th>0</th>\n",
       "      <td>6254</td>\n",
       "      <td>soft carb full bod</td>\n",
       "      <td>taste</td>\n",
       "    </tr>\n",
       "    <tr>\n",
       "      <th>1</th>\n",
       "      <td>6254</td>\n",
       "      <td>dark roast malts</td>\n",
       "      <td>style</td>\n",
       "    </tr>\n",
       "    <tr>\n",
       "      <th>2</th>\n",
       "      <td>6254</td>\n",
       "      <td>dark roast coffee</td>\n",
       "      <td>ingredients</td>\n",
       "    </tr>\n",
       "    <tr>\n",
       "      <th>3</th>\n",
       "      <td>6254</td>\n",
       "      <td>dark brown</td>\n",
       "      <td>appearance</td>\n",
       "    </tr>\n",
       "    <tr>\n",
       "      <th>4</th>\n",
       "      <td>6347</td>\n",
       "      <td>hazy golden body large</td>\n",
       "      <td>appearance</td>\n",
       "    </tr>\n",
       "  </tbody>\n",
       "</table>\n",
       "</div>"
      ],
      "text/plain": [
       "   modified_id                 keyword      cluster\n",
       "0         6254      soft carb full bod        taste\n",
       "1         6254        dark roast malts        style\n",
       "2         6254       dark roast coffee  ingredients\n",
       "3         6254              dark brown   appearance\n",
       "4         6347  hazy golden body large   appearance"
      ]
     },
     "execution_count": 3,
     "metadata": {},
     "output_type": "execute_result"
    }
   ],
   "source": [
    "df_exploded.head()"
   ]
  },
  {
   "cell_type": "markdown",
   "id": "aced56a7",
   "metadata": {},
   "source": [
    "### One-hot encoding the different attributes as a separate feature:\n",
    "The aim is to to test the features (in this case the attributes) with the highest feature relevance after fitting a random forest model on top of it."
   ]
  },
  {
   "cell_type": "code",
   "execution_count": 5,
   "id": "f30850d8",
   "metadata": {},
   "outputs": [],
   "source": [
    "one_hot_encoded_data = pd.get_dummies(df_exploded, columns = ['cluster'])"
   ]
  },
  {
   "cell_type": "code",
   "execution_count": 6,
   "id": "4a2771a4",
   "metadata": {},
   "outputs": [
    {
     "data": {
      "text/html": [
       "<div>\n",
       "<style scoped>\n",
       "    .dataframe tbody tr th:only-of-type {\n",
       "        vertical-align: middle;\n",
       "    }\n",
       "\n",
       "    .dataframe tbody tr th {\n",
       "        vertical-align: top;\n",
       "    }\n",
       "\n",
       "    .dataframe thead th {\n",
       "        text-align: right;\n",
       "    }\n",
       "</style>\n",
       "<table border=\"1\" class=\"dataframe\">\n",
       "  <thead>\n",
       "    <tr style=\"text-align: right;\">\n",
       "      <th></th>\n",
       "      <th>modified_id</th>\n",
       "      <th>keyword</th>\n",
       "      <th>cluster_alcohol</th>\n",
       "      <th>cluster_appearance</th>\n",
       "      <th>cluster_aroma</th>\n",
       "      <th>cluster_carbonation</th>\n",
       "      <th>cluster_finish</th>\n",
       "      <th>cluster_ingredients</th>\n",
       "      <th>cluster_packaging</th>\n",
       "      <th>cluster_palate</th>\n",
       "      <th>cluster_place_of_service</th>\n",
       "      <th>cluster_price</th>\n",
       "      <th>cluster_season</th>\n",
       "      <th>cluster_style</th>\n",
       "      <th>cluster_taste</th>\n",
       "    </tr>\n",
       "  </thead>\n",
       "  <tbody>\n",
       "    <tr>\n",
       "      <th>0</th>\n",
       "      <td>6254</td>\n",
       "      <td>soft carb full bod</td>\n",
       "      <td>0</td>\n",
       "      <td>0</td>\n",
       "      <td>0</td>\n",
       "      <td>0</td>\n",
       "      <td>0</td>\n",
       "      <td>0</td>\n",
       "      <td>0</td>\n",
       "      <td>0</td>\n",
       "      <td>0</td>\n",
       "      <td>0</td>\n",
       "      <td>0</td>\n",
       "      <td>0</td>\n",
       "      <td>1</td>\n",
       "    </tr>\n",
       "    <tr>\n",
       "      <th>1</th>\n",
       "      <td>6254</td>\n",
       "      <td>dark roast malts</td>\n",
       "      <td>0</td>\n",
       "      <td>0</td>\n",
       "      <td>0</td>\n",
       "      <td>0</td>\n",
       "      <td>0</td>\n",
       "      <td>0</td>\n",
       "      <td>0</td>\n",
       "      <td>0</td>\n",
       "      <td>0</td>\n",
       "      <td>0</td>\n",
       "      <td>0</td>\n",
       "      <td>1</td>\n",
       "      <td>0</td>\n",
       "    </tr>\n",
       "    <tr>\n",
       "      <th>2</th>\n",
       "      <td>6254</td>\n",
       "      <td>dark roast coffee</td>\n",
       "      <td>0</td>\n",
       "      <td>0</td>\n",
       "      <td>0</td>\n",
       "      <td>0</td>\n",
       "      <td>0</td>\n",
       "      <td>1</td>\n",
       "      <td>0</td>\n",
       "      <td>0</td>\n",
       "      <td>0</td>\n",
       "      <td>0</td>\n",
       "      <td>0</td>\n",
       "      <td>0</td>\n",
       "      <td>0</td>\n",
       "    </tr>\n",
       "    <tr>\n",
       "      <th>3</th>\n",
       "      <td>6254</td>\n",
       "      <td>dark brown</td>\n",
       "      <td>0</td>\n",
       "      <td>1</td>\n",
       "      <td>0</td>\n",
       "      <td>0</td>\n",
       "      <td>0</td>\n",
       "      <td>0</td>\n",
       "      <td>0</td>\n",
       "      <td>0</td>\n",
       "      <td>0</td>\n",
       "      <td>0</td>\n",
       "      <td>0</td>\n",
       "      <td>0</td>\n",
       "      <td>0</td>\n",
       "    </tr>\n",
       "    <tr>\n",
       "      <th>4</th>\n",
       "      <td>6347</td>\n",
       "      <td>hazy golden body large</td>\n",
       "      <td>0</td>\n",
       "      <td>1</td>\n",
       "      <td>0</td>\n",
       "      <td>0</td>\n",
       "      <td>0</td>\n",
       "      <td>0</td>\n",
       "      <td>0</td>\n",
       "      <td>0</td>\n",
       "      <td>0</td>\n",
       "      <td>0</td>\n",
       "      <td>0</td>\n",
       "      <td>0</td>\n",
       "      <td>0</td>\n",
       "    </tr>\n",
       "  </tbody>\n",
       "</table>\n",
       "</div>"
      ],
      "text/plain": [
       "   modified_id                 keyword  cluster_alcohol  cluster_appearance  \\\n",
       "0         6254      soft carb full bod                0                   0   \n",
       "1         6254        dark roast malts                0                   0   \n",
       "2         6254       dark roast coffee                0                   0   \n",
       "3         6254              dark brown                0                   1   \n",
       "4         6347  hazy golden body large                0                   1   \n",
       "\n",
       "   cluster_aroma  cluster_carbonation  cluster_finish  cluster_ingredients  \\\n",
       "0              0                    0               0                    0   \n",
       "1              0                    0               0                    0   \n",
       "2              0                    0               0                    1   \n",
       "3              0                    0               0                    0   \n",
       "4              0                    0               0                    0   \n",
       "\n",
       "   cluster_packaging  cluster_palate  cluster_place_of_service  cluster_price  \\\n",
       "0                  0               0                         0              0   \n",
       "1                  0               0                         0              0   \n",
       "2                  0               0                         0              0   \n",
       "3                  0               0                         0              0   \n",
       "4                  0               0                         0              0   \n",
       "\n",
       "   cluster_season  cluster_style  cluster_taste  \n",
       "0               0              0              1  \n",
       "1               0              1              0  \n",
       "2               0              0              0  \n",
       "3               0              0              0  \n",
       "4               0              0              0  "
      ]
     },
     "execution_count": 6,
     "metadata": {},
     "output_type": "execute_result"
    }
   ],
   "source": [
    "one_hot_encoded_data.head()"
   ]
  },
  {
   "cell_type": "code",
   "execution_count": 7,
   "id": "6679dbec",
   "metadata": {},
   "outputs": [],
   "source": [
    "one_hot_encoded_data.drop(columns = ['keyword'], inplace=True)"
   ]
  },
  {
   "cell_type": "code",
   "execution_count": 9,
   "id": "357eea58",
   "metadata": {},
   "outputs": [],
   "source": [
    "one_hot_encoded_data.columns.unique()\n",
    "cluster_agg_dict = {}\n",
    "for column in one_hot_encoded_data.columns.unique():\n",
    "    if('cluster_' in column):\n",
    "        cluster_agg_dict[column] = 'sum'"
   ]
  },
  {
   "cell_type": "code",
   "execution_count": 10,
   "id": "b1d0a903",
   "metadata": {},
   "outputs": [
    {
     "data": {
      "text/plain": [
       "{'cluster_alcohol': 'sum',\n",
       " 'cluster_appearance': 'sum',\n",
       " 'cluster_aroma': 'sum',\n",
       " 'cluster_carbonation': 'sum',\n",
       " 'cluster_finish': 'sum',\n",
       " 'cluster_ingredients': 'sum',\n",
       " 'cluster_packaging': 'sum',\n",
       " 'cluster_palate': 'sum',\n",
       " 'cluster_place_of_service': 'sum',\n",
       " 'cluster_price': 'sum',\n",
       " 'cluster_season': 'sum',\n",
       " 'cluster_style': 'sum',\n",
       " 'cluster_taste': 'sum'}"
      ]
     },
     "execution_count": 10,
     "metadata": {},
     "output_type": "execute_result"
    }
   ],
   "source": [
    "cluster_agg_dict"
   ]
  },
  {
   "cell_type": "code",
   "execution_count": 11,
   "id": "5de55eed",
   "metadata": {},
   "outputs": [],
   "source": [
    "# doing the aggregation because, in case for an attribute there's the mention of an attribute multiple times, it would get added up and contain more weight than the other features\n",
    "one_hot_encoded_data_grouped = one_hot_encoded_data.groupby(['modified_id']).agg(cluster_agg_dict).reset_index()"
   ]
  },
  {
   "cell_type": "code",
   "execution_count": 14,
   "id": "66c087a2",
   "metadata": {},
   "outputs": [],
   "source": [
    "merged_df = one_hot_encoded_data_grouped.merge(df[['id', 'rating']], left_on='modified_id', right_on='id', how='inner')"
   ]
  },
  {
   "cell_type": "code",
   "execution_count": 15,
   "id": "35cc9252",
   "metadata": {},
   "outputs": [
    {
     "data": {
      "text/html": [
       "<div>\n",
       "<style scoped>\n",
       "    .dataframe tbody tr th:only-of-type {\n",
       "        vertical-align: middle;\n",
       "    }\n",
       "\n",
       "    .dataframe tbody tr th {\n",
       "        vertical-align: top;\n",
       "    }\n",
       "\n",
       "    .dataframe thead th {\n",
       "        text-align: right;\n",
       "    }\n",
       "</style>\n",
       "<table border=\"1\" class=\"dataframe\">\n",
       "  <thead>\n",
       "    <tr style=\"text-align: right;\">\n",
       "      <th></th>\n",
       "      <th>modified_id</th>\n",
       "      <th>cluster_alcohol</th>\n",
       "      <th>cluster_appearance</th>\n",
       "      <th>cluster_aroma</th>\n",
       "      <th>cluster_carbonation</th>\n",
       "      <th>cluster_finish</th>\n",
       "      <th>cluster_ingredients</th>\n",
       "      <th>cluster_packaging</th>\n",
       "      <th>cluster_palate</th>\n",
       "      <th>cluster_place_of_service</th>\n",
       "      <th>cluster_price</th>\n",
       "      <th>cluster_season</th>\n",
       "      <th>cluster_style</th>\n",
       "      <th>cluster_taste</th>\n",
       "      <th>id</th>\n",
       "      <th>rating</th>\n",
       "    </tr>\n",
       "  </thead>\n",
       "  <tbody>\n",
       "    <tr>\n",
       "      <th>0</th>\n",
       "      <td>1</td>\n",
       "      <td>0</td>\n",
       "      <td>0</td>\n",
       "      <td>0</td>\n",
       "      <td>0</td>\n",
       "      <td>0</td>\n",
       "      <td>0</td>\n",
       "      <td>0</td>\n",
       "      <td>0</td>\n",
       "      <td>0</td>\n",
       "      <td>0</td>\n",
       "      <td>0</td>\n",
       "      <td>0</td>\n",
       "      <td>3</td>\n",
       "      <td>1</td>\n",
       "      <td>2.0</td>\n",
       "    </tr>\n",
       "    <tr>\n",
       "      <th>1</th>\n",
       "      <td>2</td>\n",
       "      <td>0</td>\n",
       "      <td>0</td>\n",
       "      <td>0</td>\n",
       "      <td>0</td>\n",
       "      <td>0</td>\n",
       "      <td>1</td>\n",
       "      <td>0</td>\n",
       "      <td>0</td>\n",
       "      <td>0</td>\n",
       "      <td>1</td>\n",
       "      <td>0</td>\n",
       "      <td>2</td>\n",
       "      <td>1</td>\n",
       "      <td>2</td>\n",
       "      <td>4.0</td>\n",
       "    </tr>\n",
       "    <tr>\n",
       "      <th>2</th>\n",
       "      <td>3</td>\n",
       "      <td>0</td>\n",
       "      <td>0</td>\n",
       "      <td>0</td>\n",
       "      <td>0</td>\n",
       "      <td>0</td>\n",
       "      <td>0</td>\n",
       "      <td>0</td>\n",
       "      <td>0</td>\n",
       "      <td>0</td>\n",
       "      <td>0</td>\n",
       "      <td>1</td>\n",
       "      <td>0</td>\n",
       "      <td>2</td>\n",
       "      <td>3</td>\n",
       "      <td>5.0</td>\n",
       "    </tr>\n",
       "    <tr>\n",
       "      <th>3</th>\n",
       "      <td>4</td>\n",
       "      <td>0</td>\n",
       "      <td>0</td>\n",
       "      <td>0</td>\n",
       "      <td>0</td>\n",
       "      <td>0</td>\n",
       "      <td>1</td>\n",
       "      <td>0</td>\n",
       "      <td>0</td>\n",
       "      <td>0</td>\n",
       "      <td>0</td>\n",
       "      <td>1</td>\n",
       "      <td>0</td>\n",
       "      <td>2</td>\n",
       "      <td>4</td>\n",
       "      <td>5.0</td>\n",
       "    </tr>\n",
       "    <tr>\n",
       "      <th>4</th>\n",
       "      <td>6</td>\n",
       "      <td>0</td>\n",
       "      <td>0</td>\n",
       "      <td>0</td>\n",
       "      <td>0</td>\n",
       "      <td>0</td>\n",
       "      <td>0</td>\n",
       "      <td>0</td>\n",
       "      <td>0</td>\n",
       "      <td>0</td>\n",
       "      <td>0</td>\n",
       "      <td>1</td>\n",
       "      <td>0</td>\n",
       "      <td>1</td>\n",
       "      <td>6</td>\n",
       "      <td>4.0</td>\n",
       "    </tr>\n",
       "  </tbody>\n",
       "</table>\n",
       "</div>"
      ],
      "text/plain": [
       "   modified_id  cluster_alcohol  cluster_appearance  cluster_aroma  \\\n",
       "0            1                0                   0              0   \n",
       "1            2                0                   0              0   \n",
       "2            3                0                   0              0   \n",
       "3            4                0                   0              0   \n",
       "4            6                0                   0              0   \n",
       "\n",
       "   cluster_carbonation  cluster_finish  cluster_ingredients  \\\n",
       "0                    0               0                    0   \n",
       "1                    0               0                    1   \n",
       "2                    0               0                    0   \n",
       "3                    0               0                    1   \n",
       "4                    0               0                    0   \n",
       "\n",
       "   cluster_packaging  cluster_palate  cluster_place_of_service  cluster_price  \\\n",
       "0                  0               0                         0              0   \n",
       "1                  0               0                         0              1   \n",
       "2                  0               0                         0              0   \n",
       "3                  0               0                         0              0   \n",
       "4                  0               0                         0              0   \n",
       "\n",
       "   cluster_season  cluster_style  cluster_taste  id  rating  \n",
       "0               0              0              3   1     2.0  \n",
       "1               0              2              1   2     4.0  \n",
       "2               1              0              2   3     5.0  \n",
       "3               1              0              2   4     5.0  \n",
       "4               1              0              1   6     4.0  "
      ]
     },
     "execution_count": 15,
     "metadata": {},
     "output_type": "execute_result"
    }
   ],
   "source": [
    "merged_df.head()"
   ]
  },
  {
   "cell_type": "markdown",
   "id": "c5e31950",
   "metadata": {},
   "source": [
    "### Defining the X and y parameters for the random forest classifier "
   ]
  },
  {
   "cell_type": "code",
   "execution_count": 17,
   "id": "523a0d66",
   "metadata": {},
   "outputs": [
    {
     "data": {
      "text/plain": [
       "['cluster_alcohol',\n",
       " 'cluster_appearance',\n",
       " 'cluster_aroma',\n",
       " 'cluster_carbonation',\n",
       " 'cluster_finish',\n",
       " 'cluster_ingredients',\n",
       " 'cluster_packaging',\n",
       " 'cluster_palate',\n",
       " 'cluster_place_of_service',\n",
       " 'cluster_price',\n",
       " 'cluster_season',\n",
       " 'cluster_style',\n",
       " 'cluster_taste']"
      ]
     },
     "execution_count": 17,
     "metadata": {},
     "output_type": "execute_result"
    }
   ],
   "source": [
    "features = [i for i in one_hot_encoded_data.columns.unique() if 'cluster_' in i]\n",
    "features"
   ]
  },
  {
   "cell_type": "code",
   "execution_count": 18,
   "id": "663f6f81",
   "metadata": {},
   "outputs": [],
   "source": [
    "X = merged_df[features].to_numpy()\n",
    "target_ar = merged_df['rating'].to_numpy()\n",
    "y = [str(i) for i in target_ar]"
   ]
  },
  {
   "cell_type": "code",
   "execution_count": null,
   "id": "c8653a74",
   "metadata": {},
   "outputs": [],
   "source": []
  },
  {
   "cell_type": "markdown",
   "id": "7beed4cf",
   "metadata": {},
   "source": [
    "### Running a random search over the random forest classifier"
   ]
  },
  {
   "cell_type": "code",
   "execution_count": 26,
   "id": "6c3e8042",
   "metadata": {},
   "outputs": [
    {
     "name": "stdout",
     "output_type": "stream",
     "text": [
      "{'bootstrap': [True, False],\n",
      " 'max_depth': [10, 20, 30, 40, 50, 60, 70, 80, 90, 100, 110, None],\n",
      " 'max_features': ['auto', 'sqrt'],\n",
      " 'min_samples_leaf': [1, 2, 4],\n",
      " 'min_samples_split': [2, 5, 10],\n",
      " 'n_estimators': [200, 400, 600, 800, 1000, 1200, 1400, 1600, 1800, 2000]}\n"
     ]
    }
   ],
   "source": [
    "# Number of trees in random forest\n",
    "n_estimators = [int(x) for x in np.linspace(start = 200, stop = 2000, num = 10)]\n",
    "# Number of features to consider at every split\n",
    "max_features = ['auto', 'sqrt']\n",
    "# Maximum number of levels in tree\n",
    "max_depth = [int(x) for x in np.linspace(10, 110, num = 11)]\n",
    "max_depth.append(None)\n",
    "# Minimum number of samples required to split a node\n",
    "min_samples_split = [2, 5, 10]\n",
    "# Minimum number of samples required at each leaf node\n",
    "min_samples_leaf = [1, 2, 4]\n",
    "# Method of selecting samples for training each tree\n",
    "bootstrap = [True, False]\n",
    "# Create the random grid\n",
    "random_grid = {'n_estimators': n_estimators,\n",
    "               'max_features': max_features,\n",
    "               'max_depth': max_depth,\n",
    "               'min_samples_split': min_samples_split,\n",
    "               'min_samples_leaf': min_samples_leaf,\n",
    "               'bootstrap': bootstrap}\n",
    "pprint(random_grid)"
   ]
  },
  {
   "cell_type": "code",
   "execution_count": null,
   "id": "a0ce4a8d",
   "metadata": {},
   "outputs": [
    {
     "name": "stdout",
     "output_type": "stream",
     "text": [
      "Fitting 3 folds for each of 100 candidates, totalling 300 fits\n"
     ]
    },
    {
     "name": "stderr",
     "output_type": "stream",
     "text": [
      "C:\\Anaconda3\\lib\\site-packages\\sklearn\\model_selection\\_split.py:676: UserWarning: The least populated class in y has only 1 members, which is less than n_splits=3.\n",
      "  warnings.warn(\n"
     ]
    }
   ],
   "source": [
    "# Use the random grid to search for best hyperparameters\n",
    "# First create the base model to tune\n",
    "rf = RandomForestClassifier()\n",
    "# Random search of parameters, using 3 fold cross validation, \n",
    "# search across 100 different combinations, and use all available cores\n",
    "rf_random = RandomizedSearchCV(estimator = rf, \n",
    "                               param_distributions = random_grid,\n",
    "                               n_iter = 100, \n",
    "                               cv = 3,\n",
    "                               verbose=2,\n",
    "                               random_state=42,\n",
    "                               n_jobs = -1)\n",
    "# Fit the random search model\n",
    "rf_random.fit(X, y)"
   ]
  },
  {
   "cell_type": "code",
   "execution_count": null,
   "id": "a5ca279a",
   "metadata": {},
   "outputs": [],
   "source": []
  }
 ],
 "metadata": {
  "kernelspec": {
   "display_name": "Python 3 (ipykernel)",
   "language": "python",
   "name": "python3"
  },
  "language_info": {
   "codemirror_mode": {
    "name": "ipython",
    "version": 3
   },
   "file_extension": ".py",
   "mimetype": "text/x-python",
   "name": "python",
   "nbconvert_exporter": "python",
   "pygments_lexer": "ipython3",
   "version": "3.8.13"
  },
  "toc": {
   "base_numbering": 1,
   "nav_menu": {},
   "number_sections": true,
   "sideBar": true,
   "skip_h1_title": false,
   "title_cell": "Table of Contents",
   "title_sidebar": "Contents",
   "toc_cell": true,
   "toc_position": {},
   "toc_section_display": true,
   "toc_window_display": true
  }
 },
 "nbformat": 4,
 "nbformat_minor": 5
}
