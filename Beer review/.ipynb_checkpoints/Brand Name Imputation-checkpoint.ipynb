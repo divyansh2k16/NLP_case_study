{
 "cells": [
  {
   "cell_type": "markdown",
   "metadata": {
    "toc": true
   },
   "source": [
    "<h1>Table of Contents<span class=\"tocSkip\"></span></h1>\n",
    "<div class=\"toc\"><ul class=\"toc-item\"><li><span><a href=\"#Import-necessary-modules\" data-toc-modified-id=\"Import-necessary-modules-1\"><span class=\"toc-item-num\">1&nbsp;&nbsp;</span>Import necessary modules</a></span></li><li><span><a href=\"#Import-the-dataset\" data-toc-modified-id=\"Import-the-dataset-2\"><span class=\"toc-item-num\">2&nbsp;&nbsp;</span>Import the dataset</a></span></li><li><span><a href=\"#Some-checks-and-processing-(Rule-Based)\" data-toc-modified-id=\"Some-checks-and-processing-(Rule-Based)-3\"><span class=\"toc-item-num\">3&nbsp;&nbsp;</span>Some checks and processing (Rule Based)</a></span><ul class=\"toc-item\"><li><span><a href=\"#Rules\" data-toc-modified-id=\"Rules-3.1\"><span class=\"toc-item-num\">3.1&nbsp;&nbsp;</span>Rules</a></span><ul class=\"toc-item\"><li><span><a href=\"#Remove-all-the-rows-where-the-product-name-was-missing---there-were-2-such-rows\" data-toc-modified-id=\"Remove-all-the-rows-where-the-product-name-was-missing---there-were-2-such-rows-3.1.1\"><span class=\"toc-item-num\">3.1.1&nbsp;&nbsp;</span>Remove all the rows where the product name was missing - there were 2 such rows</a></span></li><li><span><a href=\"#Using-fuzzy-matching-to-find-the-most-resembling-brand-name-from-the-product-name-categories\" data-toc-modified-id=\"Using-fuzzy-matching-to-find-the-most-resembling-brand-name-from-the-product-name-categories-3.1.2\"><span class=\"toc-item-num\">3.1.2&nbsp;&nbsp;</span>Using fuzzy matching to find the most resembling brand name from the product name categories</a></span></li></ul></li></ul></li><li><span><a href=\"#Basic-Analysis-Based-on-Ratings-of-different-brands\" data-toc-modified-id=\"Basic-Analysis-Based-on-Ratings-of-different-brands-4\"><span class=\"toc-item-num\">4&nbsp;&nbsp;</span>Basic Analysis Based on Ratings of different brands</a></span></li></ul></div>"
   ]
  },
  {
   "cell_type": "markdown",
   "metadata": {},
   "source": [
    "### Import necessary modules"
   ]
  },
  {
   "cell_type": "code",
   "execution_count": 1,
   "metadata": {},
   "outputs": [
    {
     "name": "stderr",
     "output_type": "stream",
     "text": [
      "C:\\Users\\SAYAN\\Desktop\\ADS 2022\\sc_26040\\nlp\\lib\\site-packages\\fuzzywuzzy\\fuzz.py:11: UserWarning: Using slow pure-python SequenceMatcher. Install python-Levenshtein to remove this warning\n",
      "  warnings.warn('Using slow pure-python SequenceMatcher. Install python-Levenshtein to remove this warning')\n"
     ]
    }
   ],
   "source": [
    "import pandas as pd\n",
    "import numpy as np\n",
    "import seaborn as sns\n",
    "import matplotlib.pyplot as plt\n",
    "from fuzzywuzzy import fuzz\n",
    "\n",
    "%matplotlib inline"
   ]
  },
  {
   "cell_type": "markdown",
   "metadata": {},
   "source": [
    "### Import the dataset"
   ]
  },
  {
   "cell_type": "code",
   "execution_count": 2,
   "metadata": {},
   "outputs": [],
   "source": [
    "df = pd.read_csv(\"input/raw_data.csv\")"
   ]
  },
  {
   "cell_type": "markdown",
   "metadata": {},
   "source": [
    "### Some checks and processing (Rule Based)"
   ]
  },
  {
   "cell_type": "markdown",
   "metadata": {},
   "source": [
    "#### Rules\n",
    "1. Remove all the reviews which does not have any products associated with them\n",
    "2. For the rows where the brands are missing- impute the brand names by the generic version of the product names\n",
    "2. Checking the number of brands which has less than 3 reviews - will be removing them because such low number of reviews wouldn't matter\n"
   ]
  },
  {
   "cell_type": "code",
   "execution_count": 3,
   "metadata": {},
   "outputs": [],
   "source": [
    "df2 = df.copy(deep=True)"
   ]
  },
  {
   "cell_type": "code",
   "execution_count": 4,
   "metadata": {},
   "outputs": [
    {
     "data": {
      "text/plain": [
       "2"
      ]
     },
     "execution_count": 4,
     "metadata": {},
     "output_type": "execute_result"
    }
   ],
   "source": [
    "df2['product'].isnull().sum()"
   ]
  },
  {
   "cell_type": "markdown",
   "metadata": {},
   "source": [
    "##### Remove all the rows where the product name was missing - there were 2 such rows"
   ]
  },
  {
   "cell_type": "code",
   "execution_count": 5,
   "metadata": {},
   "outputs": [],
   "source": [
    "df2 = df2.dropna(axis=0, subset=['product'])\n",
    "assert df2['product'].isnull().sum() == 0"
   ]
  },
  {
   "cell_type": "code",
   "execution_count": 35,
   "metadata": {},
   "outputs": [],
   "source": [
    "original_brand_names = df['brand'].dropna().unique().tolist()"
   ]
  },
  {
   "cell_type": "markdown",
   "metadata": {},
   "source": [
    "##### Using fuzzy matching to find the most resembling brand name from the product name categories"
   ]
  },
  {
   "cell_type": "code",
   "execution_count": 64,
   "metadata": {},
   "outputs": [
    {
     "name": "stdout",
     "output_type": "stream",
     "text": [
      "mikes\n"
     ]
    },
    {
     "data": {
      "text/plain": [
       "{}"
      ]
     },
     "execution_count": 64,
     "metadata": {},
     "output_type": "execute_result"
    }
   ],
   "source": [
    "# first extracting the most relevant keyword from the product which is generally in the first string\n",
    "s = 'mikes-hard-blackcherry-235oz-can'\n",
    "checking_str = s.split('-')[0].lower()\n",
    "print(checking_str)\n",
    "\n",
    "# selecting the brand which has the most resemblance with the existing brand names\n",
    "probable_matches_dict = {}\n",
    "for brand_name in original_brand_names:\n",
    "    if checking_str in brand_name.lower():\n",
    "        probable_matches_dict[brand_name] = fuzz.partial_token_sort_ratio(brand_name, s)\n",
    "\n",
    "probable_matches_dict"
   ]
  },
  {
   "cell_type": "code",
   "execution_count": 51,
   "metadata": {},
   "outputs": [
    {
     "data": {
      "text/plain": [
       "'Stone'"
      ]
     },
     "execution_count": 51,
     "metadata": {},
     "output_type": "execute_result"
    }
   ],
   "source": [
    "most_probable_match = max(probable_matches_dict, key=probable_matches_dict.get)\n",
    "most_probable_match"
   ]
  },
  {
   "cell_type": "code",
   "execution_count": 61,
   "metadata": {},
   "outputs": [],
   "source": [
    "def find_probable_brand(s):\n",
    "    # first extracting the most relevant keyword from the product which is generally in the first string\n",
    "    checking_str = s.split('-')[0].lower()\n",
    "    # print(checking_str)\n",
    "\n",
    "    # selecting the brand which has the most resemblance with the existing brand names\n",
    "    probable_matches_dict = {}\n",
    "    for brand_name in original_brand_names:\n",
    "        if checking_str in brand_name.lower():\n",
    "            # print(f\"Probable comparisons: {s} with {brand_name}\")\n",
    "            probable_matches_dict[brand_name] = fuzz.partial_token_sort_ratio(brand_name, s)\n",
    "\n",
    "    print(probable_matches_dict)\n",
    "    # return the brand name with the highest fuzzy score\n",
    "    most_probable_match = max(probable_matches_dict, key=probable_matches_dict.get)\n",
    "    return most_probable_match"
   ]
  },
  {
   "cell_type": "code",
   "execution_count": 63,
   "metadata": {},
   "outputs": [
    {
     "name": "stdout",
     "output_type": "stream",
     "text": [
      "{}\n"
     ]
    },
    {
     "ename": "ValueError",
     "evalue": "max() arg is an empty sequence",
     "output_type": "error",
     "traceback": [
      "\u001b[1;31m---------------------------------------------------------------------------\u001b[0m",
      "\u001b[1;31mValueError\u001b[0m                                Traceback (most recent call last)",
      "Input \u001b[1;32mIn [63]\u001b[0m, in \u001b[0;36m<cell line: 1>\u001b[1;34m()\u001b[0m\n\u001b[1;32m----> 1\u001b[0m ans \u001b[38;5;241m=\u001b[39m \u001b[43mfind_probable_brand\u001b[49m\u001b[43m(\u001b[49m\u001b[43ms\u001b[49m\u001b[38;5;241;43m=\u001b[39;49m\u001b[38;5;124;43m'\u001b[39;49m\u001b[38;5;124;43mmikes-hard-blackcherry-235oz-can\u001b[39;49m\u001b[38;5;124;43m'\u001b[39;49m\u001b[43m)\u001b[49m\n\u001b[0;32m      2\u001b[0m ans\n",
      "Input \u001b[1;32mIn [61]\u001b[0m, in \u001b[0;36mfind_probable_brand\u001b[1;34m(s)\u001b[0m\n\u001b[0;32m     13\u001b[0m \u001b[38;5;28mprint\u001b[39m(probable_matches_dict)\n\u001b[0;32m     14\u001b[0m \u001b[38;5;66;03m# return the brand name with the highest fuzzy score\u001b[39;00m\n\u001b[1;32m---> 15\u001b[0m most_probable_match \u001b[38;5;241m=\u001b[39m \u001b[38;5;28;43mmax\u001b[39;49m\u001b[43m(\u001b[49m\u001b[43mprobable_matches_dict\u001b[49m\u001b[43m,\u001b[49m\u001b[43m \u001b[49m\u001b[43mkey\u001b[49m\u001b[38;5;241;43m=\u001b[39;49m\u001b[43mprobable_matches_dict\u001b[49m\u001b[38;5;241;43m.\u001b[39;49m\u001b[43mget\u001b[49m\u001b[43m)\u001b[49m\n\u001b[0;32m     16\u001b[0m \u001b[38;5;28;01mreturn\u001b[39;00m most_probable_match\n",
      "\u001b[1;31mValueError\u001b[0m: max() arg is an empty sequence"
     ]
    }
   ],
   "source": [
    "ans = find_probable_brand(s='mikes-hard-blackcherry-235oz-can')\n",
    "ans"
   ]
  },
  {
   "cell_type": "code",
   "execution_count": 18,
   "metadata": {},
   "outputs": [],
   "source": [
    "df2['brand'] = df2.apply(lambda x: x['product'].split('-')[0].title() if pd.isnull(x['brand']) else x['brand'], axis=1)"
   ]
  },
  {
   "cell_type": "code",
   "execution_count": 22,
   "metadata": {},
   "outputs": [
    {
     "data": {
      "text/html": [
       "<div>\n",
       "<style scoped>\n",
       "    .dataframe tbody tr th:only-of-type {\n",
       "        vertical-align: middle;\n",
       "    }\n",
       "\n",
       "    .dataframe tbody tr th {\n",
       "        vertical-align: top;\n",
       "    }\n",
       "\n",
       "    .dataframe thead th {\n",
       "        text-align: right;\n",
       "    }\n",
       "</style>\n",
       "<table border=\"1\" class=\"dataframe\">\n",
       "  <thead>\n",
       "    <tr style=\"text-align: right;\">\n",
       "      <th></th>\n",
       "      <th>id</th>\n",
       "      <th>content</th>\n",
       "      <th>date</th>\n",
       "      <th>product</th>\n",
       "      <th>brand</th>\n",
       "      <th>rating</th>\n",
       "    </tr>\n",
       "  </thead>\n",
       "  <tbody>\n",
       "    <tr>\n",
       "      <th>13</th>\n",
       "      <td>3269</td>\n",
       "      <td>I love the flavor of this drink ! We usually e...</td>\n",
       "      <td>2021-12-06 03:46:00</td>\n",
       "      <td>mikes-hard-blackcherry-235oz-can</td>\n",
       "      <td>NaN</td>\n",
       "      <td>4.0</td>\n",
       "    </tr>\n",
       "    <tr>\n",
       "      <th>19</th>\n",
       "      <td>3270</td>\n",
       "      <td>I normally love IPA but this beer was a tad to...</td>\n",
       "      <td>2021-11-29 06:11:00</td>\n",
       "      <td>stone-delicious-ipa-62</td>\n",
       "      <td>NaN</td>\n",
       "      <td>4.0</td>\n",
       "    </tr>\n",
       "    <tr>\n",
       "      <th>21</th>\n",
       "      <td>3276</td>\n",
       "      <td>I am like many other beer enthusiasts and I li...</td>\n",
       "      <td>2021-11-17 04:10:00</td>\n",
       "      <td>stone-delicious-ipa-62</td>\n",
       "      <td>NaN</td>\n",
       "      <td>2.0</td>\n",
       "    </tr>\n",
       "    <tr>\n",
       "      <th>25</th>\n",
       "      <td>2661</td>\n",
       "      <td>This is one of the cleanest tasting domestic b...</td>\n",
       "      <td>2021-11-13 03:46:00</td>\n",
       "      <td>michelob-ultra-pure-gold-superior-light-beer-1</td>\n",
       "      <td>NaN</td>\n",
       "      <td>5.0</td>\n",
       "    </tr>\n",
       "    <tr>\n",
       "      <th>28</th>\n",
       "      <td>3267</td>\n",
       "      <td>My all - time favorite is corona light . This ...</td>\n",
       "      <td>2021-11-09 04:17:00</td>\n",
       "      <td>stone-delicious-ipa-62</td>\n",
       "      <td>NaN</td>\n",
       "      <td>3.0</td>\n",
       "    </tr>\n",
       "    <tr>\n",
       "      <th>...</th>\n",
       "      <td>...</td>\n",
       "      <td>...</td>\n",
       "      <td>...</td>\n",
       "      <td>...</td>\n",
       "      <td>...</td>\n",
       "      <td>...</td>\n",
       "    </tr>\n",
       "    <tr>\n",
       "      <th>5813</th>\n",
       "      <td>6289</td>\n",
       "      <td>Bottle . Pours dark garnet - colored with a sm...</td>\n",
       "      <td>2012-04-16</td>\n",
       "      <td>wild-black</td>\n",
       "      <td>NaN</td>\n",
       "      <td>3.0</td>\n",
       "    </tr>\n",
       "    <tr>\n",
       "      <th>5840</th>\n",
       "      <td>2556</td>\n",
       "      <td>Appearance: Pours out a clear , yellow body wi...</td>\n",
       "      <td>2012-03-26 00:00:00</td>\n",
       "      <td>bud-light-platinum</td>\n",
       "      <td>NaN</td>\n",
       "      <td>2.0</td>\n",
       "    </tr>\n",
       "    <tr>\n",
       "      <th>6072</th>\n",
       "      <td>6283</td>\n",
       "      <td>Bottle . Pours a deep ruby color with a thin t...</td>\n",
       "      <td>2011-11-20</td>\n",
       "      <td>beck-s-dark</td>\n",
       "      <td>NaN</td>\n",
       "      <td>2.0</td>\n",
       "    </tr>\n",
       "    <tr>\n",
       "      <th>6487</th>\n",
       "      <td>2561</td>\n",
       "      <td>Reviewed from notes , although its hard to for...</td>\n",
       "      <td>2011-02-16 00:00:00</td>\n",
       "      <td>budweiser-select</td>\n",
       "      <td>NaN</td>\n",
       "      <td>0.0</td>\n",
       "    </tr>\n",
       "    <tr>\n",
       "      <th>7082</th>\n",
       "      <td>6303</td>\n",
       "      <td>Date: January 03 , 2010 Mode: Bottle Source: T...</td>\n",
       "      <td>2010-01-04</td>\n",
       "      <td>michelob-light</td>\n",
       "      <td>NaN</td>\n",
       "      <td>2.0</td>\n",
       "    </tr>\n",
       "  </tbody>\n",
       "</table>\n",
       "<p>197 rows × 6 columns</p>\n",
       "</div>"
      ],
      "text/plain": [
       "        id                                            content  \\\n",
       "13    3269  I love the flavor of this drink ! We usually e...   \n",
       "19    3270  I normally love IPA but this beer was a tad to...   \n",
       "21    3276  I am like many other beer enthusiasts and I li...   \n",
       "25    2661  This is one of the cleanest tasting domestic b...   \n",
       "28    3267  My all - time favorite is corona light . This ...   \n",
       "...    ...                                                ...   \n",
       "5813  6289  Bottle . Pours dark garnet - colored with a sm...   \n",
       "5840  2556  Appearance: Pours out a clear , yellow body wi...   \n",
       "6072  6283  Bottle . Pours a deep ruby color with a thin t...   \n",
       "6487  2561  Reviewed from notes , although its hard to for...   \n",
       "7082  6303  Date: January 03 , 2010 Mode: Bottle Source: T...   \n",
       "\n",
       "                     date                                         product  \\\n",
       "13    2021-12-06 03:46:00                mikes-hard-blackcherry-235oz-can   \n",
       "19    2021-11-29 06:11:00                          stone-delicious-ipa-62   \n",
       "21    2021-11-17 04:10:00                          stone-delicious-ipa-62   \n",
       "25    2021-11-13 03:46:00  michelob-ultra-pure-gold-superior-light-beer-1   \n",
       "28    2021-11-09 04:17:00                          stone-delicious-ipa-62   \n",
       "...                   ...                                             ...   \n",
       "5813           2012-04-16                                      wild-black   \n",
       "5840  2012-03-26 00:00:00                              bud-light-platinum   \n",
       "6072           2011-11-20                                     beck-s-dark   \n",
       "6487  2011-02-16 00:00:00                                budweiser-select   \n",
       "7082           2010-01-04                                  michelob-light   \n",
       "\n",
       "     brand  rating  \n",
       "13     NaN     4.0  \n",
       "19     NaN     4.0  \n",
       "21     NaN     2.0  \n",
       "25     NaN     5.0  \n",
       "28     NaN     3.0  \n",
       "...    ...     ...  \n",
       "5813   NaN     3.0  \n",
       "5840   NaN     2.0  \n",
       "6072   NaN     2.0  \n",
       "6487   NaN     0.0  \n",
       "7082   NaN     2.0  \n",
       "\n",
       "[197 rows x 6 columns]"
      ]
     },
     "execution_count": 22,
     "metadata": {},
     "output_type": "execute_result"
    }
   ],
   "source": [
    "df[df['brand'].isnull()]"
   ]
  },
  {
   "cell_type": "markdown",
   "metadata": {},
   "source": [
    "### Basic Analysis Based on Ratings of different brands"
   ]
  },
  {
   "cell_type": "code",
   "execution_count": null,
   "metadata": {},
   "outputs": [],
   "source": []
  }
 ],
 "metadata": {
  "kernelspec": {
   "display_name": "Python 3 (ipykernel)",
   "language": "python",
   "name": "python3"
  },
  "language_info": {
   "codemirror_mode": {
    "name": "ipython",
    "version": 3
   },
   "file_extension": ".py",
   "mimetype": "text/x-python",
   "name": "python",
   "nbconvert_exporter": "python",
   "pygments_lexer": "ipython3",
   "version": "3.8.5"
  },
  "toc": {
   "base_numbering": 1,
   "nav_menu": {},
   "number_sections": true,
   "sideBar": true,
   "skip_h1_title": false,
   "title_cell": "Table of Contents",
   "title_sidebar": "Contents",
   "toc_cell": true,
   "toc_position": {},
   "toc_section_display": true,
   "toc_window_display": true
  }
 },
 "nbformat": 4,
 "nbformat_minor": 4
}
